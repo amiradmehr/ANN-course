{
  "nbformat": 4,
  "nbformat_minor": 0,
  "metadata": {
    "colab": {
      "name": "Q2_HW3.ipynb",
      "provenance": [],
      "collapsed_sections": [
        "9oJfAnPCFfNu",
        "cnsJ2KttFlXR"
      ]
    },
    "kernelspec": {
      "name": "python3",
      "display_name": "Python 3"
    }
  },
  "cells": [
    {
      "cell_type": "markdown",
      "metadata": {
        "id": "9oJfAnPCFfNu"
      },
      "source": [
        "# Datas to be saved\n"
      ]
    },
    {
      "cell_type": "code",
      "metadata": {
        "id": "nKNwoQjs7Ygo"
      },
      "source": [
        "import numpy as np\n",
        "\n",
        "s1 = np.array([[1,-1], [1,-1]])\n",
        "s2 = np.array([[1,1], [1,1]])\n",
        "\n",
        "S = (s1, s2)"
      ],
      "execution_count": null,
      "outputs": []
    },
    {
      "cell_type": "markdown",
      "metadata": {
        "id": "cnsJ2KttFlXR"
      },
      "source": [
        "# NetWork\n",
        "Calculating weight and predict over the inputs"
      ]
    },
    {
      "cell_type": "code",
      "metadata": {
        "id": "0-JvgEIE_M8c"
      },
      "source": [
        "def calc_weight(datas):\n",
        "  data_shape = datas[0].shape\n",
        "  size = np.nanprod(data_shape)\n",
        "  d = []\n",
        "  for i in range(len(datas)):\n",
        "    d.append(datas[i].reshape(1,size))\n",
        "  \n",
        "  W = np.zeros((size,size))\n",
        "\n",
        "  for i in range(len(datas)):\n",
        "    W += d[i] * d[i].T\n",
        "  return W"
      ],
      "execution_count": null,
      "outputs": []
    },
    {
      "cell_type": "code",
      "metadata": {
        "id": "JQvhe_XRDSJt"
      },
      "source": [
        "def activation(input):\n",
        "  return np.where(input>0, 1, -1)"
      ],
      "execution_count": null,
      "outputs": []
    },
    {
      "cell_type": "code",
      "metadata": {
        "id": "fu_JPyW8Dbgz"
      },
      "source": [
        "def prediction(input, weight):\n",
        "  size = np.nanprod(input.shape)\n",
        "  pred = input.reshape((1,size))\n",
        "  pred = activation(pred.dot(weight))\n",
        "\n",
        "  return pred.reshape(input.shape)"
      ],
      "execution_count": null,
      "outputs": []
    },
    {
      "cell_type": "code",
      "metadata": {
        "id": "rI-FcRB-C7LU",
        "colab": {
          "base_uri": "https://localhost:8080/"
        },
        "outputId": "c7e1d637-c59e-4071-e781-9961babfd14e"
      },
      "source": [
        "weight = calc_weight(S)\n",
        "weight"
      ],
      "execution_count": null,
      "outputs": [
        {
          "output_type": "execute_result",
          "data": {
            "text/plain": [
              "array([[2., 0., 2., 0.],\n",
              "       [0., 2., 0., 2.],\n",
              "       [2., 0., 2., 0.],\n",
              "       [0., 2., 0., 2.]])"
            ]
          },
          "metadata": {
            "tags": []
          },
          "execution_count": 158
        }
      ]
    },
    {
      "cell_type": "code",
      "metadata": {
        "id": "PaNoUxSQC-U5"
      },
      "source": [
        "def check(datas, weight, output, verbose=True):\n",
        "  cnt = 0\n",
        "  for i in range(len(datas)):\n",
        "    pred = prediction(datas[i], weight)\n",
        "    if np.all(output[i] == pred):\n",
        "      if verbose:\n",
        "        print(\"Pattern %d is correctly saved : \" %i)\n",
        "        print(\"S[%d] = \" %i, output[i])\n",
        "        print(\"\\r\")\n",
        "      cnt+=1\n",
        "    else:\n",
        "      if verbose:\n",
        "        print(\"Pattern %d is NOT correctly saved\" %i)\n",
        "        print(\"S[%d] = \" %i, output[i])\n",
        "        print(\"prediction = \", pred)\n",
        "        print(\"\\r\")\n",
        "  return cnt"
      ],
      "execution_count": null,
      "outputs": []
    },
    {
      "cell_type": "code",
      "metadata": {
        "colab": {
          "base_uri": "https://localhost:8080/"
        },
        "id": "QOrvFUg0J6rt",
        "outputId": "50052757-6fe9-4bdc-e814-6086c9748421"
      },
      "source": [
        "check(S, weight, S)"
      ],
      "execution_count": null,
      "outputs": [
        {
          "output_type": "stream",
          "text": [
            "Pattern 0 is correctly saved : \n",
            "S[0] =  [[ 1 -1]\n",
            " [ 1 -1]]\n",
            "\r\n",
            "Pattern 1 is correctly saved : \n",
            "S[1] =  [[1 1]\n",
            " [1 1]]\n",
            "\r\n"
          ],
          "name": "stdout"
        },
        {
          "output_type": "execute_result",
          "data": {
            "text/plain": [
              "2"
            ]
          },
          "metadata": {
            "tags": []
          },
          "execution_count": 160
        }
      ]
    },
    {
      "cell_type": "markdown",
      "metadata": {
        "id": "iYPvQxGPIflh"
      },
      "source": [
        "# Noise\n",
        "making inputs a little bit noisy\n"
      ]
    },
    {
      "cell_type": "code",
      "metadata": {
        "id": "M1hdewaxInYa"
      },
      "source": [
        "import random\n",
        "from copy import deepcopy\n",
        "\n",
        "def noisy(datas, n):\n",
        "  length = len(datas)\n",
        "  shape = datas[0].shape\n",
        "  shape_prd = np.nanprod(shape)\n",
        "  lst = list(range(shape_prd))\n",
        "  new_datas = []\n",
        "  for i in range(length):\n",
        "    indx = random.sample(lst, n)\n",
        "    in_ = deepcopy(datas[i].reshape((shape_prd,)))\n",
        "    in_[indx] = in_[indx] * (-1)\n",
        "    new_datas.append(in_.reshape(shape))\n",
        "  return new_datas"
      ],
      "execution_count": null,
      "outputs": []
    },
    {
      "cell_type": "code",
      "metadata": {
        "colab": {
          "base_uri": "https://localhost:8080/"
        },
        "id": "thPgeL-wJNuM",
        "outputId": "608da54a-d905-447d-f22f-f752e7b45620"
      },
      "source": [
        "new_S = noisy(S, 1)\n",
        "print(\"new S = \", new_S)\n",
        "check(new_S, weight, S)"
      ],
      "execution_count": null,
      "outputs": [
        {
          "output_type": "stream",
          "text": [
            "new S =  [array([[ 1, -1],\n",
            "       [ 1,  1]]), array([[-1,  1],\n",
            "       [ 1,  1]])]\n",
            "Pattern 0 is correctly saved : \n",
            "S[0] =  [[ 1 -1]\n",
            " [ 1 -1]]\n",
            "\r\n",
            "Pattern 1 is NOT correctly saved\n",
            "S[1] =  [[1 1]\n",
            " [1 1]]\n",
            "prediction =  [[-1  1]\n",
            " [-1  1]]\n",
            "\r\n"
          ],
          "name": "stdout"
        },
        {
          "output_type": "execute_result",
          "data": {
            "text/plain": [
              "1"
            ]
          },
          "metadata": {
            "tags": []
          },
          "execution_count": 162
        }
      ]
    },
    {
      "cell_type": "code",
      "metadata": {
        "colab": {
          "base_uri": "https://localhost:8080/"
        },
        "id": "UPWln0nIUFxd",
        "outputId": "da1ac02d-1661-4818-c234-2f538b8755bf"
      },
      "source": [
        "new_S = noisy(S, 2)\n",
        "print(\"new S\", new_S)\n",
        "check(new_S, weight, S)"
      ],
      "execution_count": null,
      "outputs": [
        {
          "output_type": "stream",
          "text": [
            "new S [array([[-1, -1],\n",
            "       [-1, -1]]), array([[ 1, -1],\n",
            "       [-1,  1]])]\n",
            "Pattern 0 is NOT correctly saved\n",
            "S[0] =  [[ 1 -1]\n",
            " [ 1 -1]]\n",
            "prediction =  [[-1 -1]\n",
            " [-1 -1]]\n",
            "\r\n",
            "Pattern 1 is NOT correctly saved\n",
            "S[1] =  [[1 1]\n",
            " [1 1]]\n",
            "prediction =  [[-1 -1]\n",
            " [-1 -1]]\n",
            "\r\n"
          ],
          "name": "stdout"
        },
        {
          "output_type": "execute_result",
          "data": {
            "text/plain": [
              "0"
            ]
          },
          "metadata": {
            "tags": []
          },
          "execution_count": 163
        }
      ]
    },
    {
      "cell_type": "markdown",
      "metadata": {
        "id": "-5-dh7tcKYG5"
      },
      "source": [
        "# Lose\n",
        "losing some of the information"
      ]
    },
    {
      "cell_type": "code",
      "metadata": {
        "id": "bTfKksW6Kdny"
      },
      "source": [
        "def losing(datas, n):\n",
        "  length = len(datas)\n",
        "  shape = datas[0].shape\n",
        "  shape_prd = np.nanprod(shape)\n",
        "  lst = list(range(shape_prd))\n",
        "  new_datas = []\n",
        "  for i in range(length):\n",
        "    indx = random.sample(lst, n)\n",
        "    in_ = deepcopy(datas[i].reshape((shape_prd,)))\n",
        "    in_[indx] = in_[indx] * 0\n",
        "    new_datas.append(in_.reshape(shape))\n",
        "  return new_datas"
      ],
      "execution_count": null,
      "outputs": []
    },
    {
      "cell_type": "code",
      "metadata": {
        "colab": {
          "base_uri": "https://localhost:8080/"
        },
        "id": "2JsjKW_oKjdc",
        "outputId": "9ce29be2-9211-4824-8d4a-d5044af6c8b4"
      },
      "source": [
        "new_S = losing(S, 1)\n",
        "print(\"new S = \", new_S)\n",
        "check(new_S, weight, S)"
      ],
      "execution_count": null,
      "outputs": [
        {
          "output_type": "stream",
          "text": [
            "new S =  [array([[ 1, -1],\n",
            "       [ 0, -1]]), array([[1, 1],\n",
            "       [1, 0]])]\n",
            "Pattern 0 is correctly saved : \n",
            "S[0] =  [[ 1 -1]\n",
            " [ 1 -1]]\n",
            "\r\n",
            "Pattern 1 is correctly saved : \n",
            "S[1] =  [[1 1]\n",
            " [1 1]]\n",
            "\r\n"
          ],
          "name": "stdout"
        },
        {
          "output_type": "execute_result",
          "data": {
            "text/plain": [
              "2"
            ]
          },
          "metadata": {
            "tags": []
          },
          "execution_count": 165
        }
      ]
    },
    {
      "cell_type": "code",
      "metadata": {
        "colab": {
          "base_uri": "https://localhost:8080/"
        },
        "id": "OMNhpFmwT2AP",
        "outputId": "2ae03d88-5f42-4b10-a7f0-1e579bb7b82f"
      },
      "source": [
        "new_S = losing(S, 2)\n",
        "print(\"new S = \", new_S)\n",
        "check(new_S, weight, S)"
      ],
      "execution_count": null,
      "outputs": [
        {
          "output_type": "stream",
          "text": [
            "new S =  [array([[ 1,  0],\n",
            "       [ 0, -1]]), array([[0, 1],\n",
            "       [1, 0]])]\n",
            "Pattern 0 is correctly saved : \n",
            "S[0] =  [[ 1 -1]\n",
            " [ 1 -1]]\n",
            "\r\n",
            "Pattern 1 is correctly saved : \n",
            "S[1] =  [[1 1]\n",
            " [1 1]]\n",
            "\r\n"
          ],
          "name": "stdout"
        },
        {
          "output_type": "execute_result",
          "data": {
            "text/plain": [
              "2"
            ]
          },
          "metadata": {
            "tags": []
          },
          "execution_count": 166
        }
      ]
    },
    {
      "cell_type": "markdown",
      "metadata": {
        "id": "38EU57yQPT4h"
      },
      "source": [
        "# Accuracy"
      ]
    },
    {
      "cell_type": "code",
      "metadata": {
        "id": "xL9KgVmXtFxn"
      },
      "source": [
        "def acc(inputs, outputs, weight, n, noise=False, loss=False):\n",
        "  cnt = []\n",
        "  cnt_ = 0\n",
        "  if noise:\n",
        "    for i in range(1000):\n",
        "      cnt_ = 0\n",
        "      new_inputs = noisy(inputs, n)\n",
        "      for j in range(len(inputs)):\n",
        "        prd = prediction(new_inputs[j], weight)\n",
        "        if np.all(prd == outputs[j]):\n",
        "          cnt_+=1\n",
        "      if cnt_ == 2:\n",
        "        cnt.append(2)\n",
        "      else:\n",
        "        cnt.append(0)\n",
        "  if loss:\n",
        "    for i in range(1000):\n",
        "      cnt_ = 0\n",
        "      new_inputs = losing(inputs, n)\n",
        "      for j in range(len(inputs)):\n",
        "        prd = prediction(new_inputs[j], weight)\n",
        "        if np.all(prd == outputs[j]):\n",
        "          cnt_+=1\n",
        "      if cnt_ == 2:\n",
        "        cnt.append(2)\n",
        "      else:\n",
        "        cnt.append(0)\n",
        "\n",
        "  return  round(100 * np.count_nonzero(np.array(cnt))/1000 , 2), cnt"
      ],
      "execution_count": null,
      "outputs": []
    },
    {
      "cell_type": "code",
      "metadata": {
        "colab": {
          "base_uri": "https://localhost:8080/"
        },
        "id": "Z8vEso0ptVXe",
        "outputId": "157daa55-9b8f-4fef-8e8f-7beb314a5bd9"
      },
      "source": [
        "acc(S,S,weight, 1, noise=True)[0], acc(S,S,weight, 2, noise=True)[0], acc(S,S,weight, 1, loss=True)[0], acc(S,S,weight, 2, loss=True)[0]"
      ],
      "execution_count": null,
      "outputs": [
        {
          "output_type": "execute_result",
          "data": {
            "text/plain": [
              "(0.0, 0.0, 100.0, 54.8)"
            ]
          },
          "metadata": {
            "tags": []
          },
          "execution_count": 168
        }
      ]
    },
    {
      "cell_type": "code",
      "metadata": {
        "id": "GdLLphWjPXdB"
      },
      "source": [
        "def iterate(weight, outputs, num, lose=False, noise=False, n=1000):\n",
        "  cnt = []\n",
        "  new = 0\n",
        "  for i in range(n):\n",
        "    if lose:\n",
        "      new = losing(outputs, num)\n",
        "      cnt.append(check(new, weight, outputs, verbose=False))\n",
        "    elif noise:\n",
        "      new = noisy(outputs, num)\n",
        "      cnt.append(check(new, weight, outputs, verbose=False))\n",
        "\n",
        "  return 100 * round(np.mean(cnt)/len(outputs), 2)"
      ],
      "execution_count": null,
      "outputs": []
    },
    {
      "cell_type": "code",
      "metadata": {
        "colab": {
          "base_uri": "https://localhost:8080/"
        },
        "id": "XJUpj_4WP0Z8",
        "outputId": "db7aa79a-02e6-4588-aa27-a4fba6a3b55d"
      },
      "source": [
        "iterate(weight, S, 1, noise=True), iterate(weight, S, 2, noise=True)"
      ],
      "execution_count": null,
      "outputs": [
        {
          "output_type": "execute_result",
          "data": {
            "text/plain": [
              "(25.0, 0.0)"
            ]
          },
          "metadata": {
            "tags": []
          },
          "execution_count": 170
        }
      ]
    },
    {
      "cell_type": "code",
      "metadata": {
        "colab": {
          "base_uri": "https://localhost:8080/"
        },
        "id": "MYBeblMMUTrh",
        "outputId": "fcf6b624-9131-4e80-9a0f-1c1fc9bf488a"
      },
      "source": [
        "iterate(weight, S, 1, lose=True), iterate(weight, S, 2, lose=True)"
      ],
      "execution_count": null,
      "outputs": [
        {
          "output_type": "execute_result",
          "data": {
            "text/plain": [
              "(100.0, 75.0)"
            ]
          },
          "metadata": {
            "tags": []
          },
          "execution_count": 171
        }
      ]
    }
  ]
}