{
  "nbformat": 4,
  "nbformat_minor": 0,
  "metadata": {
    "colab": {
      "name": "Q4_HW3.ipynb",
      "provenance": [],
      "collapsed_sections": [
        "6VBRWw8cZg3E",
        "9GKxOLe8i4As",
        "jOs43lSejCD1"
      ]
    },
    "kernelspec": {
      "name": "python3",
      "display_name": "Python 3"
    }
  },
  "cells": [
    {
      "cell_type": "markdown",
      "metadata": {
        "id": "6VBRWw8cZg3E"
      },
      "source": [
        "# Initialize inputs and outputs "
      ]
    },
    {
      "cell_type": "code",
      "metadata": {
        "id": "No62bsEoRVzx"
      },
      "source": [
        "import numpy as np\n",
        "\n",
        "s1 = np.array([[-1,1,-1],\n",
        "               [1,1,-1],\n",
        "               [-1,1,-1],\n",
        "               [-1,1,-1],\n",
        "               [-1,1,-1],\n",
        "               [-1,1,-1],\n",
        "               [-1,1,-1]])\n",
        "t1 = np.array([[-1,1,1,1]])\n",
        "\n",
        "s2 = np.array([[1,1,1],\n",
        "               [1,-1,1],\n",
        "               [-1,-1,1],\n",
        "               [-1,1,-1],\n",
        "               [1,-1,-1],\n",
        "               [1,-1,-1],\n",
        "               [1,1,1]])\n",
        "t2 = np.array([[1,-1,1,1]])\n",
        "\n",
        "s3 = np.array([[1,1,-1],\n",
        "               [-1,-1,1],\n",
        "               [-1,-1,1],\n",
        "               [1,1,1],\n",
        "               [-1,-1,1],\n",
        "               [-1,-1,1],\n",
        "               [1,1,-1]])\n",
        "t3 = np.array([[1,1,-1,1]])\n",
        "\n",
        "s4 = np.array([[1,-1,1],\n",
        "               [1,-1,1],\n",
        "               [1,-1,1],\n",
        "               [1,1,1],\n",
        "               [-1,-1,1],\n",
        "               [-1,-1,1],\n",
        "               [-1,-1,1]])\n",
        "t4 = np.array([[1,1,1,-1]])\n",
        "\n",
        "S = (s1,s2,s3,s4)\n",
        "T = (t1,t2,t3,t4)"
      ],
      "execution_count": 73,
      "outputs": []
    },
    {
      "cell_type": "code",
      "metadata": {
        "id": "It1C9mS0bndW"
      },
      "source": [
        "def depict_array(matrix):\n",
        "  for i in matrix:\n",
        "      for j in i:\n",
        "        if j == 1:\n",
        "          print('#', end=\"\")\n",
        "        elif j == -1:\n",
        "          print(\".\", end=\"\")\n",
        "        else:\n",
        "          print(\" \", end=\"\")\n",
        "      print(\"\\r\")"
      ],
      "execution_count": 74,
      "outputs": []
    },
    {
      "cell_type": "code",
      "metadata": {
        "colab": {
          "base_uri": "https://localhost:8080/"
        },
        "id": "E5WknCBWbtxn",
        "outputId": "5cdfb8a3-2c38-431c-9583-d19dd1d41d0a"
      },
      "source": [
        "for mat in S:\n",
        "  depict_array(mat)\n",
        "  print('\\n')"
      ],
      "execution_count": 75,
      "outputs": [
        {
          "output_type": "stream",
          "text": [
            ".#.\r\n",
            "##.\r\n",
            ".#.\r\n",
            ".#.\r\n",
            ".#.\r\n",
            ".#.\r\n",
            ".#.\r\n",
            "\n",
            "\n",
            "###\r\n",
            "#.#\r\n",
            "..#\r\n",
            ".#.\r\n",
            "#..\r\n",
            "#..\r\n",
            "###\r\n",
            "\n",
            "\n",
            "##.\r\n",
            "..#\r\n",
            "..#\r\n",
            "###\r\n",
            "..#\r\n",
            "..#\r\n",
            "##.\r\n",
            "\n",
            "\n",
            "#.#\r\n",
            "#.#\r\n",
            "#.#\r\n",
            "###\r\n",
            "..#\r\n",
            "..#\r\n",
            "..#\r\n",
            "\n",
            "\n"
          ],
          "name": "stdout"
        }
      ]
    },
    {
      "cell_type": "markdown",
      "metadata": {
        "id": "9GKxOLe8i4As"
      },
      "source": [
        "# Weight\n",
        "calculating weight and defining functions"
      ]
    },
    {
      "cell_type": "code",
      "metadata": {
        "id": "T8QqiEKAcISR"
      },
      "source": [
        "def calc_weight(inputs, outputs):\n",
        "  s = []\n",
        "  t = []\n",
        "  input_shape = inputs[0].shape\n",
        "  output_shape = outputs[0].shape\n",
        "  n = np.prod(input_shape)\n",
        "  m = np.prod(output_shape)\n",
        "\n",
        "  for i in range(len(inputs)):\n",
        "    s.append(inputs[i].reshape((n,1)))\n",
        "    t.append(outputs[i].reshape((1,m)))\n",
        "\n",
        "  W = np.zeros((n, m))\n",
        "  for i in range(len(inputs)):\n",
        "    W += s[i].dot(t[i])\n",
        "\n",
        "  return W"
      ],
      "execution_count": 76,
      "outputs": []
    },
    {
      "cell_type": "code",
      "metadata": {
        "colab": {
          "base_uri": "https://localhost:8080/"
        },
        "id": "gpGgqfFQc4ev",
        "outputId": "34303df7-7cb1-4f1e-d178-ede1bcc1addf"
      },
      "source": [
        "weight = calc_weight(S,T)\n",
        "weight"
      ],
      "execution_count": 77,
      "outputs": [
        {
          "output_type": "execute_result",
          "data": {
            "text/plain": [
              "array([[ 4.,  0.,  0.,  0.],\n",
              "       [ 0.,  0.,  0.,  4.],\n",
              "       [ 2., -2.,  2., -2.],\n",
              "       [ 0.,  0.,  4.,  0.],\n",
              "       [-4.,  0.,  0.,  0.],\n",
              "       [ 4.,  0.,  0.,  0.],\n",
              "       [ 0.,  0.,  0., -4.],\n",
              "       [-4.,  0.,  0.,  0.],\n",
              "       [ 4.,  0.,  0.,  0.],\n",
              "       [ 2.,  2., -2., -2.],\n",
              "       [ 2.,  2.,  2.,  2.],\n",
              "       [ 2.,  2., -2., -2.],\n",
              "       [ 0., -4.,  0.,  0.],\n",
              "       [-4.,  0.,  0.,  0.],\n",
              "       [ 2.,  2., -2., -2.],\n",
              "       [ 0., -4.,  0.,  0.],\n",
              "       [-4.,  0.,  0.,  0.],\n",
              "       [ 2.,  2., -2., -2.],\n",
              "       [ 2., -2., -2.,  2.],\n",
              "       [ 0.,  0.,  0.,  4.],\n",
              "       [ 2., -2.,  2., -2.]])"
            ]
          },
          "metadata": {
            "tags": []
          },
          "execution_count": 77
        }
      ]
    },
    {
      "cell_type": "markdown",
      "metadata": {
        "id": "jOs43lSejCD1"
      },
      "source": [
        "# Check\n",
        "check if weight yields Ss and Ts"
      ]
    },
    {
      "cell_type": "code",
      "metadata": {
        "id": "j4w7p2iBeyNZ"
      },
      "source": [
        "def activation(mat, theta=0):\n",
        "  return np.where(mat > theta, 1., np.where(mat< theta, -1, 0))\n",
        "\n",
        "def prediction(input, weight, output_shape):\n",
        "  input_shape = np.prod(input.shape)\n",
        "  pred = input.reshape((1,input_shape)).dot(weight)\n",
        "  pred = pred.reshape(output_shape)\n",
        "  pred = activation(pred)\n",
        "  return pred"
      ],
      "execution_count": 78,
      "outputs": []
    },
    {
      "cell_type": "code",
      "metadata": {
        "colab": {
          "base_uri": "https://localhost:8080/"
        },
        "id": "3qCkfUW1eATM",
        "outputId": "189d0c8d-6ace-4fd0-819c-667bc60ab7f3"
      },
      "source": [
        "for i in range(len(S)):\n",
        "  print(prediction(S[i], weight, (1,4)))"
      ],
      "execution_count": 79,
      "outputs": [
        {
          "output_type": "stream",
          "text": [
            "[[-1.  1.  1.  1.]]\n",
            "[[ 1. -1.  1.  1.]]\n",
            "[[ 1.  1. -1.  1.]]\n",
            "[[ 1.  1.  1. -1.]]\n"
          ],
          "name": "stdout"
        }
      ]
    },
    {
      "cell_type": "code",
      "metadata": {
        "colab": {
          "base_uri": "https://localhost:8080/"
        },
        "id": "iQbRCxCXifLa",
        "outputId": "9a273a1e-5225-452b-f8df-da8049517b26"
      },
      "source": [
        "for i in range(len(S)):\n",
        "  depict_array(prediction(T[i], weight.T, (7,3)))\n",
        "  print('\\n')"
      ],
      "execution_count": 80,
      "outputs": [
        {
          "output_type": "stream",
          "text": [
            ".#.\r\n",
            "##.\r\n",
            ".#.\r\n",
            ".#.\r\n",
            ".#.\r\n",
            ".#.\r\n",
            ".#.\r\n",
            "\n",
            "\n",
            "###\r\n",
            "#.#\r\n",
            "..#\r\n",
            ".#.\r\n",
            "#..\r\n",
            "#..\r\n",
            "###\r\n",
            "\n",
            "\n",
            "##.\r\n",
            "..#\r\n",
            "..#\r\n",
            "###\r\n",
            "..#\r\n",
            "..#\r\n",
            "##.\r\n",
            "\n",
            "\n",
            "#.#\r\n",
            "#.#\r\n",
            "#.#\r\n",
            "###\r\n",
            "..#\r\n",
            "..#\r\n",
            "..#\r\n",
            "\n",
            "\n"
          ],
          "name": "stdout"
        }
      ]
    },
    {
      "cell_type": "markdown",
      "metadata": {
        "id": "rWZNGNAxjSbB"
      },
      "source": [
        "# Noise\n",
        "adding noise to Ss"
      ]
    },
    {
      "cell_type": "code",
      "metadata": {
        "id": "S9sS15p5dTo1"
      },
      "source": [
        "import random \n",
        "from copy import deepcopy\n",
        "\n",
        "def noisy(inputs, percentage):\n",
        "  length = len(inputs)\n",
        "  shape = inputs[0].shape\n",
        "  shape_prd = np.prod(shape)\n",
        "  lst = list(range(shape_prd))\n",
        "  new_inputs = []\n",
        "  for i in range(length):\n",
        "    indx = random.sample(lst, int(shape_prd* percentage))\n",
        "    in_ = deepcopy(inputs[i].reshape((shape_prd,)))\n",
        "    in_[indx] = in_[indx] * -1\n",
        "    new_inputs.append(in_.reshape(shape))\n",
        "  return new_inputs"
      ],
      "execution_count": 81,
      "outputs": []
    },
    {
      "cell_type": "code",
      "metadata": {
        "colab": {
          "base_uri": "https://localhost:8080/"
        },
        "id": "EIZRd2WFj7E-",
        "outputId": "149fec7c-c843-4342-d266-70a95cd271ef"
      },
      "source": [
        "new_S_15 = noisy(S, 0.15)\n",
        "for i in range(len(S)):\n",
        "  depict_array(new_S_15[i])\n",
        "  print('\\n')"
      ],
      "execution_count": 82,
      "outputs": [
        {
          "output_type": "stream",
          "text": [
            "#..\r\n",
            ".#.\r\n",
            ".#.\r\n",
            ".#.\r\n",
            ".#.\r\n",
            ".#.\r\n",
            ".#.\r\n",
            "\n",
            "\n",
            "###\r\n",
            "###\r\n",
            "#.#\r\n",
            ".#.\r\n",
            "##.\r\n",
            "#..\r\n",
            "###\r\n",
            "\n",
            "\n",
            "#..\r\n",
            "...\r\n",
            "..#\r\n",
            "###\r\n",
            "..#\r\n",
            "#.#\r\n",
            "##.\r\n",
            "\n",
            "\n",
            "..#\r\n",
            "#.#\r\n",
            "#.#\r\n",
            ".##\r\n",
            "...\r\n",
            "..#\r\n",
            "..#\r\n",
            "\n",
            "\n"
          ],
          "name": "stdout"
        }
      ]
    },
    {
      "cell_type": "code",
      "metadata": {
        "colab": {
          "base_uri": "https://localhost:8080/"
        },
        "id": "6_wdE1_gWGLH",
        "outputId": "d400b148-cf29-4ce5-9d83-c0544a5d8dfe"
      },
      "source": [
        "new_S_40 = noisy(S, 0.4)\n",
        "for i in range(len(S)):\n",
        "  depict_array(new_S_40[i])\n",
        "  print('\\n')"
      ],
      "execution_count": 83,
      "outputs": [
        {
          "output_type": "stream",
          "text": [
            "##.\r\n",
            "###\r\n",
            "##.\r\n",
            "..#\r\n",
            ".##\r\n",
            "...\r\n",
            "...\r\n",
            "\n",
            "\n",
            "###\r\n",
            "...\r\n",
            "#.#\r\n",
            ".#.\r\n",
            "##.\r\n",
            "...\r\n",
            "...\r\n",
            "\n",
            "\n",
            "##.\r\n",
            "...\r\n",
            "#..\r\n",
            "###\r\n",
            "#..\r\n",
            "#..\r\n",
            "###\r\n",
            "\n",
            "\n",
            "..#\r\n",
            "#.#\r\n",
            "#..\r\n",
            ".#.\r\n",
            "#.#\r\n",
            "###\r\n",
            ".##\r\n",
            "\n",
            "\n"
          ],
          "name": "stdout"
        }
      ]
    },
    {
      "cell_type": "markdown",
      "metadata": {
        "id": "ZoH6nMv84NFM"
      },
      "source": [
        "# BAM\n",
        "Bidirectional Associative Memory"
      ]
    },
    {
      "cell_type": "code",
      "metadata": {
        "id": "JC5JoTQD4Ywu"
      },
      "source": [
        "from copy import deepcopy\n",
        "\n",
        "def BAM(inputs, original_inputs, weight):\n",
        "  input_shape = inputs[0].shape\n",
        "  input_size = np.prod(input_shape)\n",
        "  length = len(inputs)\n",
        "\n",
        "  ins_0 = deepcopy(inputs)\n",
        "  ins_1 = 0\n",
        "  out_ = 0\n",
        "  cnt = [0]*length\n",
        "\n",
        "  for i in range(length):\n",
        "\n",
        "    while True:\n",
        "\n",
        "      out_ = prediction(ins_0[i],weight,(1,4))\n",
        "      ins_1 = prediction(out_, weight.T, (7,3))\n",
        "\n",
        "      if np.all(ins_0[i] == original_inputs[i]):\n",
        "        cnt[i] = 1\n",
        "        break\n",
        "      elif np.all(ins_1 == ins_0[i]):\n",
        "        break\n",
        "      \n",
        "      ins_0[i] = deepcopy(ins_1)\n",
        "  \n",
        "  return np.array(cnt)"
      ],
      "execution_count": 84,
      "outputs": []
    },
    {
      "cell_type": "markdown",
      "metadata": {
        "id": "SzMlVAHNJIZK"
      },
      "source": [
        "# Accuracy"
      ]
    },
    {
      "cell_type": "code",
      "metadata": {
        "id": "GxtVwErxJX6l"
      },
      "source": [
        "def acc(inputs, weight, prcnt, iteration):\n",
        "  cnt = np.zeros((iteration, len(inputs)))\n",
        "  cnt_ = 0\n",
        "  for i in range(iteration):\n",
        "    cnt_ = 0\n",
        "    new_inputs = noisy(inputs, prcnt)\n",
        "    cnt_ = BAM(new_inputs, inputs, weight)\n",
        "    cnt[i] = cnt_\n",
        "\n",
        "  ac = np.array([np.count_nonzero(cnt[:,0])/iteration,\n",
        "        np.count_nonzero(cnt[:,1])/iteration,\n",
        "        np.count_nonzero(cnt[:,2])/iteration,\n",
        "        np.count_nonzero(cnt[:,3])/iteration])\n",
        "  return ac"
      ],
      "execution_count": 85,
      "outputs": []
    },
    {
      "cell_type": "code",
      "metadata": {
        "colab": {
          "base_uri": "https://localhost:8080/"
        },
        "id": "_vLAFyf3YSzw",
        "outputId": "f55b90a3-3481-491b-92a3-9aa6c72d8562"
      },
      "source": [
        "'accuracy with 15% noise', acc(S, weight, 0.15, 1000), 'accuracy with 40% noise', acc(S, weight, 0.4, 1000)*100"
      ],
      "execution_count": 86,
      "outputs": [
        {
          "output_type": "execute_result",
          "data": {
            "text/plain": [
              "('accuracy with 15% noise',\n",
              " array([0.751, 1.   , 0.853, 0.608]),\n",
              " 'accuracy with 40% noise',\n",
              " array([17.8, 21.1, 18.4, 11.3]))"
            ]
          },
          "metadata": {
            "tags": []
          },
          "execution_count": 86
        }
      ]
    },
    {
      "cell_type": "code",
      "metadata": {
        "id": "DZjVuPvYT-ax"
      },
      "source": [
        "import matplotlib.pyplot as plt\n",
        "import pandas as pd\n",
        "\n",
        "data = np.zeros((100,4))\n",
        "for i in range(100):\n",
        "  prcntg= acc(S, weight, i/100, 1000)\n",
        "  data[i] = prcntg\n",
        "\n",
        "data_frame = pd.DataFrame({'1':data[:,0],\n",
        "                     '2':data[:,1],\n",
        "                     '3':data[:,2],\n",
        "                     '4':data[:,3]})"
      ],
      "execution_count": null,
      "outputs": []
    },
    {
      "cell_type": "code",
      "metadata": {
        "colab": {
          "base_uri": "https://localhost:8080/",
          "height": 350
        },
        "id": "hr-rrCf_GZE0",
        "outputId": "1a5e12a5-4684-4bde-a315-573aced6202b"
      },
      "source": [
        "data_frame.plot(figsize=(7,5))\n",
        "plt.xlabel('Noise Percentage'), plt.ylabel('Accuracy'), plt.title('Accuracy over increasing noise for our four inputs')\n",
        "plt.grid()"
      ],
      "execution_count": 94,
      "outputs": [
        {
          "output_type": "display_data",
          "data": {
            "image/png": "[encoded data removed]",
            "text/plain": [
              "<Figure size 504x360 with 1 Axes>"
            ]
          },
          "metadata": {
            "tags": [],
            "needs_background": "light"
          }
        }
      ]
    },
    {
      "cell_type": "markdown",
      "metadata": {
        "id": "KePB0f4FWb4m"
      },
      "source": [
        "# 4\n"
      ]
    },
    {
      "cell_type": "code",
      "metadata": {
        "id": "V1QU-XvzZnlw"
      },
      "source": [
        "def BAM_4(inputs, original_inputs, weight):\n",
        "\n",
        "  ins_0 = deepcopy(inputs)\n",
        "  ins_1 = 0\n",
        "  out_ = 0\n",
        "  cnt = 0\n",
        "\n",
        "  while True:\n",
        "\n",
        "    out_ = prediction(ins_0,weight.T, (7,3))\n",
        "    ins_1 = prediction(out_, weight, (1,4))\n",
        "\n",
        "    if np.all(ins_0 == original_inputs):\n",
        "      cnt += 1\n",
        "      break\n",
        "    elif np.all(ins_1 == ins_0):\n",
        "      break\n",
        "      \n",
        "    ins_0 = deepcopy(ins_1)\n",
        "\n",
        "  if cnt ==1:\n",
        "    return True"
      ],
      "execution_count": 88,
      "outputs": []
    },
    {
      "cell_type": "code",
      "metadata": {
        "colab": {
          "base_uri": "https://localhost:8080/"
        },
        "id": "PJ_pjRumZyqe",
        "outputId": "713fc2be-bd06-462a-b778-eea03db4616b"
      },
      "source": [
        "a = np.array([[-1,1,1,0]])\n",
        "BAM_4(a, T[0],weight)"
      ],
      "execution_count": 89,
      "outputs": [
        {
          "output_type": "execute_result",
          "data": {
            "text/plain": [
              "True"
            ]
          },
          "metadata": {
            "tags": []
          },
          "execution_count": 89
        }
      ]
    },
    {
      "cell_type": "code",
      "metadata": {
        "colab": {
          "base_uri": "https://localhost:8080/"
        },
        "id": "ujTtqwpHbGc7",
        "outputId": "17ddd30b-44ac-490c-fd8f-37a7d7d63bb6"
      },
      "source": [
        "a.shape"
      ],
      "execution_count": 90,
      "outputs": [
        {
          "output_type": "execute_result",
          "data": {
            "text/plain": [
              "(1, 4)"
            ]
          },
          "metadata": {
            "tags": []
          },
          "execution_count": 90
        }
      ]
    },
    {
      "cell_type": "code",
      "metadata": {
        "colab": {
          "base_uri": "https://localhost:8080/"
        },
        "id": "Eg_QzJ_hWbX0",
        "outputId": "a4ad4196-a603-4208-c89b-c61b17a1d8aa"
      },
      "source": [
        "a = np.array([[-1,1,1,0]])\n",
        "prediction(a, weight.T, (7,3))"
      ],
      "execution_count": 91,
      "outputs": [
        {
          "output_type": "execute_result",
          "data": {
            "text/plain": [
              "array([[-1.,  0., -1.],\n",
              "       [ 1.,  1., -1.],\n",
              "       [ 0.,  1., -1.],\n",
              "       [-1.,  1., -1.],\n",
              "       [-1.,  1., -1.],\n",
              "       [-1.,  1., -1.],\n",
              "       [-1.,  0., -1.]])"
            ]
          },
          "metadata": {
            "tags": []
          },
          "execution_count": 91
        }
      ]
    }
  ]
}